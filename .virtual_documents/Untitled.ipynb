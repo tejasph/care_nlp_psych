import pandas as pd


pd.read_csv('toy_data.tsv', sep='\t', encoding='latin1', header=None, quoting=3)



